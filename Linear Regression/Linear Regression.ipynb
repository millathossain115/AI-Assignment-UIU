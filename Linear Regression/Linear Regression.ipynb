{
  "nbformat": 4,
  "nbformat_minor": 0,
  "metadata": {
    "colab": {
      "name": "LR_011191121.ipynb",
      "provenance": [],
      "collapsed_sections": []
    },
    "kernelspec": {
      "name": "python3",
      "display_name": "Python 3"
    },
    "language_info": {
      "name": "python"
    }
  },
  "cells": [
    {
      "cell_type": "code",
      "execution_count": 1,
      "metadata": {
        "colab": {
          "base_uri": "https://localhost:8080/"
        },
        "id": "XgytOg25lBJ1",
        "outputId": "76ab35af-c08e-465d-9291-64ea6ccd6e4c"
      },
      "outputs": [
        {
          "output_type": "stream",
          "name": "stdout",
          "text": [
            "Mounted at /content/drive\n"
          ]
        }
      ],
      "source": [
        "from google.colab import drive\n",
        "drive.mount('/content/drive',force_remount=True)"
      ]
    },
    {
      "cell_type": "code",
      "source": [
        "import pandas as pd\n",
        "train_file = pd.read_csv('/content/drive/MyDrive/Ai LAB/train.csv')\n",
        "#print(train_file)\n",
        "test_file = pd.read_csv('/content/drive/MyDrive/Ai LAB/test.csv')\n",
        "#print(test_file)\n",
        "#================================================\n",
        "import numpy as np \n",
        "train_data= train_file.to_numpy()\n",
        "#print(train_data)\n",
        "#print(train_data.shape)\n",
        "test_data= test_file.to_numpy()\n",
        "#print(test_data)"
      ],
      "metadata": {
        "id": "0sfd88tZljNv"
      },
      "execution_count": null,
      "outputs": []
    },
    {
      "cell_type": "code",
      "source": [
        "#============Function to find the value of B0, B1================\n",
        "\n",
        "def func (x,y):\n",
        "  n=np.size(x)\n",
        "  mean_x=np.mean(x)\n",
        "  mean_y=np.mean(y)\n",
        "\n",
        "  SSxy= np.sum(y*x)-(n*mean_x*mean_y)\n",
        "  SSxx=np.sum(x*x)-(n*mean_x*mean_x)\n",
        "\n",
        "  B1= SSxy/SSxx\n",
        "  B0=mean_y-B1*mean_x\n",
        "\n",
        "  return B0, B1"
      ],
      "metadata": {
        "id": "6VRTOU9losVd"
      },
      "execution_count": 10,
      "outputs": []
    },
    {
      "cell_type": "code",
      "source": [
        "\n",
        "B0,B1= func(train_data[:,0],train_data[:,1])\n",
        "error=0\n",
        "\n",
        "for i in range(len(test_data)):\n",
        "  my_output = B0 + (B1*test_data[i][0])\n",
        "  #print(my_output)\n",
        "  diff = train_data[i][1] - my_output\n",
        "  #print(diff)\n",
        "  error = error+diff\n",
        "  mse = error/(2*len(test_data)) \n",
        "  \n",
        "print(mse) "
      ],
      "metadata": {
        "colab": {
          "base_uri": "https://localhost:8080/"
        },
        "id": "VG7ejeeuxWGp",
        "outputId": "07e2a4f4-69b9-4133-904b-1ca40f330d66"
      },
      "execution_count": 15,
      "outputs": [
        {
          "output_type": "stream",
          "name": "stdout",
          "text": [
            "-1.472597090122144\n"
          ]
        }
      ]
    }
  ]
}