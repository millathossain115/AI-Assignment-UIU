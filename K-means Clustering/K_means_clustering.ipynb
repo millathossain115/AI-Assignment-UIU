{
  "nbformat": 4,
  "nbformat_minor": 0,
  "metadata": {
    "colab": {
      "name": "K_means_011191121.ipynb",
      "provenance": []
    },
    "kernelspec": {
      "name": "python3",
      "display_name": "Python 3"
    },
    "language_info": {
      "name": "python"
    }
  },
  "cells": [
    {
      "cell_type": "code",
      "execution_count": null,
      "metadata": {
        "colab": {
          "base_uri": "https://localhost:8080/"
        },
        "id": "i49-bpzOPwhu",
        "outputId": "fb7891b0-d19f-41c0-bef0-f92511f719a8"
      },
      "outputs": [
        {
          "output_type": "stream",
          "name": "stdout",
          "text": [
            "Mounted at /content/drive\n"
          ]
        }
      ],
      "source": [
        "from google.colab import drive\n",
        "drive.mount('/content/drive',force_remount=True)"
      ]
    },
    {
      "cell_type": "code",
      "source": [
        "import numpy as np\n",
        "import pandas as pd\n",
        "import random\n",
        "from scipy.spatial import distance as dst"
      ],
      "metadata": {
        "id": "lTyIaJsBRNIC"
      },
      "execution_count": null,
      "outputs": []
    },
    {
      "cell_type": "code",
      "source": [
        "dataset = pd.read_csv('/content/drive/MyDrive/Ai LAB/Country-dataset.csv')\n",
        "dataset = dataset.drop('country',1)\n",
        "dataset =  dataset.to_numpy()\n",
        "print(dataset)"
      ],
      "metadata": {
        "id": "JUgKjdb7Qcn6"
      },
      "execution_count": null,
      "outputs": []
    },
    {
      "cell_type": "code",
      "source": [
        "class KMC:\n",
        "  def __init__(self, k):\n",
        "    self.k = k\n",
        "\n",
        "\n",
        "  def initial_centroids(self, data):\n",
        "    centroids = []\n",
        "    for i in range(self.k):\n",
        "      centroids.append(data[random.randint(0,len(data)-1)])\n",
        "    return np.array(centroids)\n",
        "\n",
        "\n",
        "  def find_cluster_centroids(self, data, centroids):\n",
        "    clust1 = []\n",
        "    clust2 = []\n",
        "    clust3 = []\n",
        "    while True:\n",
        "      for i in data:\n",
        "        distance = []\n",
        "        for j in centroids:\n",
        "          distance.append(dst.euclidean(j,i))\n",
        "        if distance[0] < distance[1] and distance[0] < distance[2]:\n",
        "          clust1.append(i)\n",
        "        elif distance[1] < distance[0] and distance[1] < distance[2]:\n",
        "          clust2.append(i)\n",
        "        else:\n",
        "          clust3.append(i)\n",
        "      cnew1 = np.array(clust1).mean(axis = 0)\n",
        "      cnew2 = np.array(clust2).mean(axis = 0)\n",
        "      cnew3 = np.array(clust3).mean(axis = 0)\n",
        "      if centroids[0].all() == cnew1.all() and centroids[1].all() == cnew2.all() and centroids[2].all() == cnew3.all():\n",
        "        break\n",
        "      else:\n",
        "        clust1.clear()\n",
        "        clust2.clear()\n",
        "        clust3.clear()\n",
        "        centroids[0] = cnew1\n",
        "        centroids[1] = cnew2\n",
        "        centroids[2] = cnew3\n",
        "    return centroids, clust1, clust2, clust3"
      ],
      "metadata": {
        "id": "AH2MpDvJRX1C"
      },
      "execution_count": null,
      "outputs": []
    },
    {
      "cell_type": "code",
      "source": [
        "KMC = KMC(3)\n",
        "centroids = KMC.initial_centroids(data)\n",
        "final_centroids, cluster1, cluster2, clsuter3 = KMC.find_cluster_centroids(data,centroids)"
      ],
      "metadata": {
        "id": "-ZuRCxZMRaqp"
      },
      "execution_count": null,
      "outputs": []
    },
    {
      "cell_type": "code",
      "source": [
        "print(final_centroids)\n",
        "print(cluster1)\n",
        "print(cluster2)\n",
        "print(clsuter3)"
      ],
      "metadata": {
        "id": "qJhuUcy0RfWZ",
        "outputId": "ba2cca7b-e6a4-4a8a-a060-d03c3f07bc04",
        "colab": {
          "base_uri": "https://localhost:8080/"
        }
      },
      "execution_count": null,
      "outputs": [
        {
          "output_type": "stream",
          "name": "stdout",
          "text": [
            "[[7.64e+01 7.47e+01 4.11e+04 4.44e+04]\n",
            " [2.69e+01 5.71e+01 9.92e+03 6.23e+03]\n",
            " [1.35e+01 1.94e+01 4.28e+03 1.04e+03]]\n",
            "[array([1.98e+01, 2.09e+01, 4.14e+04, 5.19e+04]), array([   51.3,    47.8, 43200. , 46900. ]), array([   35. ,    43.7, 22900. , 28000. ]), array([   69.5,    50.9, 41100. , 20700. ]), array([   76.4,    74.7, 41100. , 44400. ]), array([6.74e+01, 2.80e+01, 8.06e+04, 3.53e+04]), array([2.91e+01, 3.10e+01, 4.07e+04, 4.74e+04]), array([   50.2,    57.5, 33900. , 30800. ]), array([5.05e+01, 4.36e+01, 4.40e+04, 5.80e+04]), array([3.87e+01, 3.74e+01, 3.98e+04, 4.62e+04]), array([2.68e+01, 2.81e+01, 3.69e+04, 4.06e+04]), array([4.23e+01, 3.71e+01, 4.04e+04, 4.18e+04]), array([2.21e+01, 3.07e+01, 2.87e+04, 2.69e+04]), array([   53.4,    43.3, 38800. , 41900. ]), array([  103. ,    86.5, 45700. , 48700. ]), array([   35. ,    32.9, 29600. , 30600. ]), array([2.52e+01, 2.72e+01, 3.62e+04, 3.58e+04]), array([1.50e+01, 1.36e+01, 3.58e+04, 4.45e+04]), array([6.67e+01, 3.04e+01, 7.52e+04, 3.85e+04]), array([   175.,    142.,  91700., 105000.]), array([   72. ,    63.6, 45500. , 50300. ]), array([3.03e+01, 2.80e+01, 3.23e+04, 3.37e+04]), array([3.97e+01, 2.85e+01, 6.23e+04, 8.78e+04]), array([6.57e+01, 4.12e+01, 4.53e+04, 1.93e+04]), array([6.23e+01, 2.38e+01, 1.25e+05, 7.03e+04]), array([4.96e+01, 3.30e+01, 4.54e+04, 1.93e+04]), array([  200.,   174., 72100., 46600.]), array([   64.3,    62.9, 28700. , 23400. ]), array([   49.4,    46.2, 30400. , 22100. ]), array([2.55e+01, 2.68e+01, 3.25e+04, 3.07e+04]), array([4.62e+01, 4.07e+01, 4.29e+04, 5.21e+04]), array([6.40e+01, 5.33e+01, 5.55e+04, 7.46e+04]), array([   77.7,    63.6, 57600. , 35000. ]), array([2.82e+01, 3.08e+01, 3.62e+04, 3.89e+04]), array([1.24e+01, 1.58e+01, 4.94e+04, 4.84e+04])]\n",
            "[array([  28. ,   48.6, 9930. , 4090. ]), array([   38.4,    31.4, 12900. ,  4460. ]), array([   45.5,    58.9, 19100. , 12200. ]), array([1.89e+01, 1.60e+01, 1.87e+04, 1.03e+04]), array([   54.3,    20.7, 16000. ,  5840. ]), array([   39.5,    48.7, 15300. , 16000. ]), array([   51.4,    64.5, 16200. ,  6030. ]), array([  58.2,   57.5, 7880. , 4340. ]), array([  29.7,   51.3, 9720. , 4610. ]), array([   43.6,    51.3, 13300. ,  6350. ]), array([1.07e+01, 1.18e+01, 1.45e+04, 1.12e+04]), array([   50.2,    53. , 15300. ,  6840. ]), array([   37.7,    31.3, 19400. , 12900. ]), array([  26.3,   22.6, 9530. , 4560. ]), array([   15.9,    17.8, 10900. ,  6250. ]), array([   33.2,    35. , 13000. ,  8200. ]), array([   37.6,    38.1, 20100. , 13500. ]), array([   66. ,    62.9, 28300. , 19800. ]), array([   22.7,    33.3, 11100. ,  5450. ]), array([  27.9,   32.4, 9350. , 4660. ]), array([  21.3,   26.6, 9860. , 2600. ]), array([   85.8,    58.9, 33700. , 17100. ]), array([   75.1,    68.7, 22700. , 14600. ]), array([  57.8,   63.9, 7350. , 3650. ]), array([   57.7,    18.9, 15400. ,  8750. ]), array([   23.8,    49.2, 11200. ,  7370. ]), array([   81.8,    76.5, 22300. , 13100. ]), array([  24.3,   22.4, 8430. , 3110. ]), array([   24.4,    19.4, 17400. ,  6530. ]), array([   39.4,    34.1, 12700. ,  4500. ]), array([  31.3,   49.6, 8000. , 4680. ]), array([  48.3,   69. , 9470. , 3680. ]), array([   44.2,    29.9, 20100. ,  9070. ]), array([   53.7,    55.1, 18300. , 11300. ]), array([   35.8,    60.2, 16300. ,  8860. ]), array([   65.6,    42.1, 29600. , 12100. ]), array([   65.3,    67.2, 21100. , 12000. ]), array([   39.8,    58.1, 11400. ,  4540. ]), array([   86.9,    71. , 21100. ,  9070. ]), array([   77.6,    65.4, 10500. ,  7100. ]), array([  153.,   154., 28300., 21100.]), array([   51.2,    62.2, 15900. ,  8000. ]), array([   37. ,    62.7, 14000. ,  6680. ]), array([  47.8,   60.7, 8460. , 5190. ]), array([   70. ,    78.2, 15400. ,  8080. ]), array([  27.8,   23.8, 9960. , 5020. ]), array([   40.1,    42.1, 21800. , 12600. ]), array([   29.9,    37.4, 27200. , 22500. ]), array([   32.6,    38.8, 17800. ,  8230. ]), array([2.92e+01, 2.11e+01, 2.31e+04, 1.07e+04]), array([   32.9,    47.9, 12700. ,  5410. ]), array([   93.8,   108. , 20400. , 10800. ]), array([   76.3,    77.8, 25200. , 16600. ]), array([   28.6,    27.4, 12000. ,  7280. ]), array([  19.6,   26.8, 8560. , 2810. ]), array([  26.9,   57.1, 9920. , 6230. ]), array([   52.5,    38.4, 14200. ,  8300. ]), array([   66.5,    60.8, 13500. ,  5080. ]), array([   50.5,    55.3, 10400. ,  4140. ]), array([   20.4,    25.5, 18000. , 10700. ]), array([  76.3,   44.5, 9940. , 4440. ]), array([  47.1,   51.1, 7820. , 2970. ]), array([   26.3,    25.4, 17100. , 11900. ]), array([   28.5,    17.6, 16500. , 13500. ])]\n",
            "[array([  10. ,   44.9, 1610. ,  553. ]), array([  62.3,   42.9, 5900. , 3530. ]), array([  20.8,   45.3, 6700. , 3220. ]), array([  16. ,   21.8, 2440. ,  758. ]), array([  23.8,   37.2, 1820. ,  758. ]), array([  42.5,   70.7, 6420. , 2180. ]), array([  41.2,   34.3, 5410. , 1980. ]), array([  19.2,   29.6, 1430. ,  575. ]), array([  8.92,  39.2 , 764.  , 231.  ]), array([  54.1,   59.5, 2520. ,  786. ]), array([  22.2,   27. , 2660. , 1310. ]), array([  32.7,   61.8, 5830. , 3310. ]), array([ 11.8,  26.5, 888. , 446. ]), array([  36.8,   43.5, 1930. ,  897. ]), array([  16.5,   51.7, 1410. ,  769. ]), array([ 41.1,  49.6, 609. , 334. ]), array([  85.1,   54.7, 5190. , 2740. ]), array([  50.6,   43.3, 2690. , 1220. ]), array([  26.9,   46.6, 7300. , 2990. ]), array([   4.79,   23.3 , 1420.  ,  482.  ]), array([  23.8,   42.7, 1660. ,  562. ]), array([  35. ,   52.8, 6730. , 2960. ]), array([  29.5,   45.9, 3060. , 1310. ]), array([  25.8,   36.3, 6710. , 2830. ]), array([  30.3,   43.2, 1190. ,  648. ]), array([  14.9,   35.2, 1390. ,  547. ]), array([  51.4,   79.1, 5840. , 3040. ]), array([  15.3,   64.7, 1500. ,  662. ]), array([  22.6,   27.1, 4410. , 1350. ]), array([  20.7,   33.6, 2480. ,  967. ]), array([  13.3,   79.9, 1730. , 1490. ]), array([  51.6,   81.7, 2790. ,  880. ]), array([  35.4,   49.3, 3980. , 1140. ]), array([  39.4,  101. , 2380. , 1170. ]), array([ 19.1,  92.6, 700. , 327. ]), array([  25.,   43., 1390.,  413.]), array([  22.8,   34.9, 1030. ,  459. ]), array([  22.8,   35.1, 1870. ,  708. ]), array([  50.7,   61.2, 3320. , 1200. ]), array([  23.5,   81. , 3340. , 2860. ]), array([  39.2,   78.5, 3910. , 1630. ]), array([  46.7,   56.7, 7710. , 2650. ]), array([  32.2,   43. , 6440. , 2830. ]), array([ 31.5,  46.2, 918. , 419. ]), array([1.09e-01, 6.59e-02, 3.72e+03, 9.88e+02]), array([   9.58,   36.4 , 1990.  ,  592.  ]), array([ 22.2,  49.1, 814. , 348. ]), array([  25.3,   17.4, 5150. , 2330. ]), array([  13.5,   19.4, 4280. , 1040. ]), array([  55.1,   51.5, 7290. , 3230. ]), array([  34.8,   36.6, 5600. , 2130. ]), array([  12.,   30., 1350.,  563.]), array([  29.2,   53.1, 5400. , 3450. ]), array([  24.9,   40.3, 2180. , 1000. ]), array([  16.8,   34.5, 1220. ,  399. ]), array([  49.3,   81.2, 1780. , 1290. ]), array([  19.7,   17.2, 3370. , 1480. ]), array([  14.9,   58.6, 2110. ,  738. ]), array([  18.7,   29.1, 2090. ,  702. ]), array([2.20e+00, 2.78e+01, 1.85e+03, 3.60e+03]), array([  40.2,   57.3, 1210. ,  488. ]), array([  12.4,   60.3, 4980. , 3550. ]), array([  17.1,   28.6, 1540. ,  595. ]), array([  31.7,   28.5, 4240. , 1380. ]), array([  46.6,   52.7, 2950. , 2970. ]), array([  72. ,   80.2, 4490. , 1310. ]), array([  30. ,   34.4, 4480. , 1310. ]), array([  37. ,   30.9, 3280. , 1460. ])]\n"
          ]
        }
      ]
    }
  ]
}