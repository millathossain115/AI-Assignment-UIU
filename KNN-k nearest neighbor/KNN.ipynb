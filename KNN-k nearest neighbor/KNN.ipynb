{
  "nbformat": 4,
  "nbformat_minor": 0,
  "metadata": {
    "colab": {
      "name": "011191121_KNN.ipynb",
      "provenance": []
    },
    "kernelspec": {
      "name": "python3",
      "display_name": "Python 3"
    },
    "language_info": {
      "name": "python"
    }
  },
  "cells": [
    {
      "cell_type": "code",
      "execution_count": 1,
      "metadata": {
        "colab": {
          "base_uri": "https://localhost:8080/"
        },
        "id": "I8RsIxmWNFts",
        "outputId": "e90d8315-4782-4af1-9879-55c6a53d49a0"
      },
      "outputs": [
        {
          "output_type": "stream",
          "name": "stdout",
          "text": [
            "Mounted at /content/drive\n"
          ]
        }
      ],
      "source": [
        "from google.colab import drive\n",
        "drive.mount('/content/drive',force_remount=True)"
      ]
    },
    {
      "cell_type": "code",
      "source": [
        "import pandas as pd;\n",
        "import numpy as np;\n",
        "import math as ma;"
      ],
      "metadata": {
        "id": "kbuptqvVOTlA"
      },
      "execution_count": 2,
      "outputs": []
    },
    {
      "cell_type": "code",
      "source": [
        "import pandas as pd\n",
        "dataset = pd.read_csv('/content/drive/MyDrive/Ai LAB/diabetes.csv')\n",
        "array = dataset.to_numpy()\n",
        "print(array)"
      ],
      "metadata": {
        "id": "DqVDrvzwOZtR",
        "colab": {
          "base_uri": "https://localhost:8080/"
        },
        "outputId": "5b2a1f63-e9c5-4f6f-ddb5-d7146b83c1d9"
      },
      "execution_count": 3,
      "outputs": [
        {
          "output_type": "stream",
          "name": "stdout",
          "text": [
            "[[148.     72.     35.    ...   0.627  50.      1.   ]\n",
            " [ 85.     66.     29.    ...   0.351  31.      0.   ]\n",
            " [183.     64.      0.    ...   0.672  32.      1.   ]\n",
            " ...\n",
            " [121.     72.     23.    ...   0.245  30.      0.   ]\n",
            " [126.     60.      0.    ...   0.349  47.      1.   ]\n",
            " [ 93.     70.     31.    ...   0.315  23.      0.   ]]\n"
          ]
        }
      ]
    },
    {
      "cell_type": "code",
      "source": [
        "train = array[0:614, : ]\n",
        "test = array[614: ,:]\n",
        "print(train)\n",
        "print(test)"
      ],
      "metadata": {
        "id": "yWp2TdlzOsyo",
        "colab": {
          "base_uri": "https://localhost:8080/"
        },
        "outputId": "ffb9081d-5a45-4c90-d417-7484ec6dda1e"
      },
      "execution_count": 4,
      "outputs": [
        {
          "output_type": "stream",
          "name": "stdout",
          "text": [
            "[[148.     72.     35.    ...   0.627  50.      1.   ]\n",
            " [ 85.     66.     29.    ...   0.351  31.      0.   ]\n",
            " [183.     64.      0.    ...   0.672  32.      1.   ]\n",
            " ...\n",
            " [174.     58.     22.    ...   0.593  36.      1.   ]\n",
            " [168.     88.     42.    ...   0.787  40.      1.   ]\n",
            " [105.     80.     28.    ...   0.878  26.      0.   ]]\n",
            "[[138.     74.     26.    ...   0.557  50.      1.   ]\n",
            " [106.     72.      0.    ...   0.207  27.      0.   ]\n",
            " [117.     96.      0.    ...   0.157  30.      0.   ]\n",
            " ...\n",
            " [121.     72.     23.    ...   0.245  30.      0.   ]\n",
            " [126.     60.      0.    ...   0.349  47.      1.   ]\n",
            " [ 93.     70.     31.    ...   0.315  23.      0.   ]]\n"
          ]
        }
      ]
    },
    {
      "cell_type": "code",
      "source": [
        "k=3\n",
        "count= 0\n",
        "dist = []\n",
        "for i in range(len(test)):\n",
        "\n",
        "    for j in range(len(train)):\n",
        "        dististance = 0\n",
        "        for k in range(len(train[j]) - 1):\n",
        "            dististance = dististance + abs(\n",
        "                train[j][k] - test[i][k])\n",
        "        dist.append([dististance, train[j][-1]])\n",
        "\n",
        "    dist.sort()\n",
        "    major_count1=0\n",
        "    major_count2=0\n",
        "\n",
        "    for l in range(k-1):\n",
        "        if(dist[k][-1] == 0):\n",
        "            major_count1 = major_count1 + 1;\n",
        "        else:\n",
        "            major_count2=major_count2+1;\n",
        "            \n",
        "    if(major_count1>major_count2):\n",
        "        pred_val=0;\n",
        "    else:\n",
        "        pred_val= 1;\n",
        "        \n",
        "    if(pred_val == train[j][-1]):\n",
        "        count=count+1\n",
        "        \n",
        "    dist.clear();"
      ],
      "metadata": {
        "id": "pT5G8kVyO9So"
      },
      "execution_count": 6,
      "outputs": []
    },
    {
      "cell_type": "code",
      "source": [
        "Accuracy = (count/len(test))*100\n",
        "Error = ((len(test) - count)/len(test))*100\n",
        "print(\"Percentage of Accuracy : \",Accuracy)\n",
        "print(\"Percentage of fault : \", Error)"
      ],
      "metadata": {
        "id": "-xsw6RCmPBJQ",
        "colab": {
          "base_uri": "https://localhost:8080/"
        },
        "outputId": "ba8caf4c-1512-453f-a9ed-554893c919a0"
      },
      "execution_count": 8,
      "outputs": [
        {
          "output_type": "stream",
          "name": "stdout",
          "text": [
            "Percentage of Accuracy :  62.33766233766234\n",
            "Percentage of fault :  37.66233766233766\n"
          ]
        }
      ]
    }
  ]
}