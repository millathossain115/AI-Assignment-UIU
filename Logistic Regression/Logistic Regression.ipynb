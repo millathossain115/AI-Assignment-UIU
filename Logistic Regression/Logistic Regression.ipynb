{
  "nbformat": 4,
  "nbformat_minor": 0,
  "metadata": {
    "colab": {
      "name": "011191121_Millat_Hossain.ipynb",
      "provenance": []
    },
    "kernelspec": {
      "name": "python3",
      "display_name": "Python 3"
    },
    "language_info": {
      "name": "python"
    }
  },
  "cells": [
    {
      "cell_type": "code",
      "execution_count": null,
      "metadata": {
        "colab": {
          "base_uri": "https://localhost:8080/"
        },
        "id": "cl43nhv_sgTu",
        "outputId": "73abdf39-26ad-453d-cd47-d2de293c9582"
      },
      "outputs": [
        {
          "output_type": "stream",
          "name": "stdout",
          "text": [
            "Mounted at /content/drive\n"
          ]
        }
      ],
      "source": [
        "from google.colab import drive\n",
        "drive.mount('/content/drive', force_remount=True)"
      ]
    },
    {
      "cell_type": "code",
      "source": [
        "%cd /content/drive/MyDrive/Ai LAB"
      ],
      "metadata": {
        "colab": {
          "base_uri": "https://localhost:8080/"
        },
        "id": "Vll0g1cgsqYg",
        "outputId": "b56eecd1-0dd7-4bc6-ca7e-1136d866a0e9"
      },
      "execution_count": null,
      "outputs": [
        {
          "output_type": "stream",
          "name": "stdout",
          "text": [
            "/content/drive/MyDrive/Ai LAB\n"
          ]
        }
      ]
    },
    {
      "cell_type": "code",
      "source": [
        "!ls"
      ],
      "metadata": {
        "colab": {
          "base_uri": "https://localhost:8080/"
        },
        "id": "8yD64FR_sytc",
        "outputId": "17b6ced0-035e-4f9d-bea5-c69b758fac83"
      },
      "execution_count": null,
      "outputs": [
        {
          "output_type": "stream",
          "name": "stdout",
          "text": [
            " 011191121_LR_A06.ipynb   diabetes.csv\t\t    test.csv\n",
            "'A*_Search.ipynb'\t  K_means_011191121.ipynb   train.csv\n",
            " Breast_cancer_data.csv   KNN_011191121.ipynb\t    Untitled0.ipynb\n",
            " Country-data.csv\t  LR_011191121.ipynb\n"
          ]
        }
      ]
    },
    {
      "cell_type": "code",
      "source": [
        "import numpy as np\n",
        "import pandas as pd"
      ],
      "metadata": {
        "id": "Gn9H8AC3s4Rf"
      },
      "execution_count": null,
      "outputs": []
    },
    {
      "cell_type": "code",
      "source": [
        "data = pd.read_csv( \"Breast_cancer_data.csv\" )\n",
        "npy = data.to_numpy()\n",
        "\t\n",
        "X_train = npy[0:int(len(npy)*0.8)+1, 0:5]\n",
        "Y_train = npy[0:int(len(npy)*0.8)+1, 5]\n",
        "\n",
        "X_test = npy[int(len(npy)*0.8)+1: , 0:5]\n",
        "Y_test = npy[int(len(npy)*0.8)+1: , 5]"
      ],
      "metadata": {
        "id": "wlpRHInrs8xg"
      },
      "execution_count": null,
      "outputs": []
    },
    {
      "cell_type": "code",
      "source": [
        "class LogitRegression() :\n",
        "\tdef __init__( self, learning_rate, iterations ) :\t\t\n",
        "\t\tself.learning_rate = learning_rate\t\t\n",
        "\t\tself.iterations = iterations\n",
        "\t\t\n",
        "\tdef fit( self, X, Y ) :\t\t\n",
        "\t\n",
        "\t\tself.m, self.n = X.shape\t\t\n",
        "\t\n",
        "\t\tself.W = np.zeros( self.n )\t\t\n",
        "\t\tself.b = 0\t\t\n",
        "\t\tself.X = X\t\t\n",
        "\t\tself.Y = Y\n",
        "\n",
        "\t\t\t\t\n",
        "\t\tfor i in range( self.iterations ) :\t\t\t\n",
        "\t\t\tself.update_weights()\t\t\t\n",
        "\t\treturn self\n",
        "\t\n",
        "\tdef update_weights( self ) :\t\t\n",
        "\t\tA = 1 / ( 1 + np.exp( - ( self.X.dot( self.W ) + self.b ) ) )\n",
        "\t\t\n",
        "\t\t# calculate gradients\t\t\n",
        "\t\ttmp = ( A - self.Y.T )\t\t\n",
        "\t\ttmp = np.reshape( tmp, self.m )\t\t\n",
        "\t\tdW = np.dot( self.X.T, tmp ) / self.m\t\t\n",
        "\t\tdb = np.sum( tmp ) / self.m\n",
        "\t\t\n",
        "\t\t# update weights\t\n",
        "\t\tself.W = self.W - self.learning_rate * dW\t\n",
        "\t\tself.b = self.b - self.learning_rate * db\n",
        "\t\t\n",
        "\t\treturn self\n",
        "\n",
        "\t\n",
        "\tdef predict( self, X ) :\t\n",
        "\t\tZ = 1 / ( 1 + np.exp( - ( X.dot( self.W ) + self.b ) ) )\t\t\n",
        "\t\tY = np.where( Z > 0.5, 1, 0 )\t\t\n",
        "\t\treturn Y"
      ],
      "metadata": {
        "id": "GUgdDYTjtBXh"
      },
      "execution_count": null,
      "outputs": []
    },
    {
      "cell_type": "code",
      "source": [
        "model = LogitRegression( learning_rate = 0.01, iterations = 1000 )\n",
        "\t\n",
        "model.fit( X_train, Y_train )\t\n",
        "\n",
        "Y_pred = model.predict(X_test)\t\n",
        "\n",
        "classified = 0\t\n",
        "count = 0\t\n",
        "for count in range( np.size( Y_pred ) ) :\n",
        "\t\t\n",
        "\tif Y_test[count] == Y_pred[count] :\t\t\t\n",
        "\t\tclassified = classified + 1\n",
        "\t\t\t\n",
        "\tcount = count + 1\n",
        "\t\t\n",
        "print( \"Accuracy : \", (classified / count ) * 100 )\n",
        "error = (1-classified / count ) * 100 \n",
        "print(error)\n"
      ],
      "metadata": {
        "colab": {
          "base_uri": "https://localhost:8080/"
        },
        "id": "0hNc47gCtEI2",
        "outputId": "60382b86-1a97-4959-ce16-e9aaf211ede2"
      },
      "execution_count": null,
      "outputs": [
        {
          "output_type": "stream",
          "name": "stdout",
          "text": [
            "Accuracy :  68.14159292035397\n",
            "31.85840707964602\n"
          ]
        },
        {
          "output_type": "stream",
          "name": "stderr",
          "text": [
            "/usr/local/lib/python3.7/dist-packages/ipykernel_launcher.py:21: RuntimeWarning: overflow encountered in exp\n",
            "/usr/local/lib/python3.7/dist-packages/ipykernel_launcher.py:37: RuntimeWarning: overflow encountered in exp\n"
          ]
        }
      ]
    }
  ]
}